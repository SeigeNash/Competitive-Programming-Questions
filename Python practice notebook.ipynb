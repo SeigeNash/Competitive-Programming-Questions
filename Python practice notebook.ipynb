{
 "cells": [
  {
   "cell_type": "code",
   "execution_count": 23,
   "id": "0b1115a2",
   "metadata": {},
   "outputs": [
    {
     "name": "stdout",
     "output_type": "stream",
     "text": [
      "{'a': 8, 'b': 3}\n"
     ]
    }
   ],
   "source": [
    "s = \"aabaababaaa\"\n",
    "occur = dict()\n",
    "# how to assign only keys with no value in them? os that even possible? \n",
    "# how to assign default values to the keys \n",
    "occur['a'] = 0\n",
    "occur['b'] = 0\n",
    "\n",
    "for i in s:\n",
    "    occur[i] = occur[i] + 1\n",
    "\n",
    "print(occur)"
   ]
  },
  {
   "cell_type": "code",
   "execution_count": 29,
   "id": "0d955c84",
   "metadata": {},
   "outputs": [
    {
     "ename": "RuntimeError",
     "evalue": "dictionary changed size during iteration",
     "output_type": "error",
     "traceback": [
      "\u001b[0;31m---------------------------------------------------------------------------\u001b[0m",
      "\u001b[0;31mRuntimeError\u001b[0m                              Traceback (most recent call last)",
      "Input \u001b[0;32mIn [29]\u001b[0m, in \u001b[0;36m<cell line: 16>\u001b[0;34m()\u001b[0m\n\u001b[1;32m      3\u001b[0m to_sort \u001b[38;5;241m=\u001b[39m {\n\u001b[1;32m      4\u001b[0m     \u001b[38;5;241m1\u001b[39m : \u001b[38;5;124m\"\u001b[39m\u001b[38;5;124ma\u001b[39m\u001b[38;5;124m\"\u001b[39m,\n\u001b[1;32m      5\u001b[0m     \u001b[38;5;241m4\u001b[39m : \u001b[38;5;124m\"\u001b[39m\u001b[38;5;124md\u001b[39m\u001b[38;5;124m\"\u001b[39m, \n\u001b[0;32m   (...)\u001b[0m\n\u001b[1;32m     11\u001b[0m     \u001b[38;5;241m44\u001b[39m : \u001b[38;5;124m\"\u001b[39m\u001b[38;5;124me\u001b[39m\u001b[38;5;124m\"\u001b[39m\n\u001b[1;32m     12\u001b[0m }\n\u001b[1;32m     14\u001b[0m \u001b[38;5;66;03m# using two variables \u001b[39;00m\n\u001b[0;32m---> 16\u001b[0m \u001b[38;5;28;01mfor\u001b[39;00m x,y \u001b[38;5;129;01min\u001b[39;00m to_sort\u001b[38;5;241m.\u001b[39mitems():\n\u001b[1;32m     17\u001b[0m     key \u001b[38;5;241m=\u001b[39m x\n\u001b[1;32m     18\u001b[0m     value \u001b[38;5;241m=\u001b[39m y\n",
      "\u001b[0;31mRuntimeError\u001b[0m: dictionary changed size during iteration"
     ]
    }
   ],
   "source": [
    "'''inverting dictionary'''\n",
    "\n",
    "to_sort = {\n",
    "    1 : \"a\",\n",
    "    4 : \"d\", \n",
    "    5 : \"e\", \n",
    "    3 : \"c\", \n",
    "    2 : \"b\", \n",
    "    7 : \"a\", \n",
    "    8 : \"b\", \n",
    "    44 : \"e\"\n",
    "}\n",
    "\n",
    "# using two variables \n",
    "\n",
    "for x,y in to_sort.items():\n",
    "    key = x\n",
    "    value = y\n",
    "    to_sort[value] = key"
   ]
  },
  {
   "cell_type": "code",
   "execution_count": 35,
   "id": "d1ada242",
   "metadata": {},
   "outputs": [
    {
     "name": "stdout",
     "output_type": "stream",
     "text": [
      "[['Jane', 82], ['Dave', 73], ['Amy', 91]]\n"
     ]
    }
   ],
   "source": [
    "scores_dict = {\"John\": 65, \"Jane\": 82, \"Dave\": 73, \"Amy\": 91}\n",
    "scores_list = list()\n",
    "\n",
    "for x,y in scores_dict.items():\n",
    "    p = []\n",
    "    p.append(x)\n",
    "    p.append(y)\n",
    "    scores_list.append(p)\n",
    "        \n",
    "for i in scores_list:\n",
    "    if( i[1] < 70 ):\n",
    "        scores_list.remove(i)\n",
    "     \n",
    "# updating the dictionary \n",
    "for \n",
    "    \n",
    "print(scores_list)"
   ]
  },
  {
   "cell_type": "code",
   "execution_count": 38,
   "id": "3f5b4a1f",
   "metadata": {},
   "outputs": [
    {
     "name": "stdout",
     "output_type": "stream",
     "text": [
      "{'a': 400, 'b': 200, 'c': 400}\n"
     ]
    }
   ],
   "source": [
    "dict1 = {\"a\": 100, \"b\": 200}\n",
    "dict2 = {\"a\": 300, \"c\": 400}\n",
    "\n",
    "for x,y in dict1.items():\n",
    "    if x in dict2.keys():\n",
    "        sum = dict1[x] + dict2[x]\n",
    "        dict1[x] = sum\n",
    "\n",
    "for x,y in dict2.items():\n",
    "    if x not in dict1.keys():\n",
    "        dict1[x] = y\n",
    "\n",
    "print(dict1)\n",
    "\n",
    "# can there be a better way of doing this?"
   ]
  },
  {
   "cell_type": "code",
   "execution_count": 41,
   "id": "5d0c54eb",
   "metadata": {},
   "outputs": [
    {
     "name": "stdout",
     "output_type": "stream",
     "text": [
      "['Tuesday']\n"
     ]
    }
   ],
   "source": [
    "temperatures = {\"Monday\": 20, \"Tuesday\": 25, \"Wednesday\": 22}\n",
    "\n",
    "maxi = max(temperatures.values())\n",
    "l = list()\n",
    "\n",
    "for x,y in temperatures.items():\n",
    "    if( y == maxi ):\n",
    "        l.append(x)\n",
    "\n",
    "print(l)"
   ]
  },
  {
   "cell_type": "markdown",
   "id": "9843e33a",
   "metadata": {},
   "source": [
    "### Dictionary Sorting"
   ]
  },
  {
   "cell_type": "code",
   "execution_count": 6,
   "id": "83d1be60",
   "metadata": {},
   "outputs": [
    {
     "name": "stdout",
     "output_type": "stream",
     "text": [
      "{'Nick': 22, 'Joao': 27, 'Mickey': 44, 'Oldo': 56}\n",
      "dict_keys(['Nick', 'Joao', 'Mickey', 'Oldo'])\n"
     ]
    },
    {
     "data": {
      "text/plain": [
       "'\\nBased on this I can say that unless I store the sorted keys in a separate list, it wouldnt matter. sorted isnt going to sort your dictionary. \\n'"
      ]
     },
     "execution_count": 6,
     "metadata": {},
     "output_type": "execute_result"
    }
   ],
   "source": [
    "friends = { \n",
    "    \"Nick\" : 22,\n",
    "    \"Joao\" : 27, \n",
    "    \"Mickey\" : 44,\n",
    "    \"Oldo\" : 56\n",
    "}\n",
    "\n",
    "names = friends.keys()\n",
    "#sort = sorted(names)\n",
    "sorted(friends.keys())\n",
    "print(friends)\n",
    "print(names)\n",
    "#print(sort)\n",
    "\n",
    "\n",
    "\"\"\"\n",
    "Based on this I can say that unless I store the sorted keys in a separate list, it wouldnt matter. sorted isnt going to sort your dictionary. \n",
    "\"\"\""
   ]
  },
  {
   "cell_type": "code",
   "execution_count": 9,
   "id": "e2cb95c4",
   "metadata": {},
   "outputs": [
    {
     "name": "stdout",
     "output_type": "stream",
     "text": [
      "[('Joao', 27), ('Mickey', 44), ('Nick', 22), ('Oldo', 56)]\n"
     ]
    }
   ],
   "source": [
    "d = dict(sorted(friends.items()))\n",
    "l = sorted(friends.items())\n",
    "print(l)"
   ]
  },
  {
   "cell_type": "code",
   "execution_count": 10,
   "id": "59d2cacf",
   "metadata": {},
   "outputs": [
    {
     "name": "stdout",
     "output_type": "stream",
     "text": [
      "{'English': 81, 'Math': 88, 'Science': 92}\n"
     ]
    }
   ],
   "source": [
    "def sort_dict_by_keys(d):\n",
    "    return dict(sorted(d.items()))         #sorts the list containing the key-value pair tuples \n",
    "\n",
    "marks = {\"Math\": 88, \"Science\": 92, \"English\": 81}\n",
    "sorted_by_keys = sort_dict_by_keys(marks)\n",
    "print(sorted_by_keys)  # Output: {'English': 81, 'Math': 88, 'Science': 92}"
   ]
  },
  {
   "cell_type": "markdown",
   "id": "d82f012c",
   "metadata": {},
   "source": [
    "### Sorting in Python\n",
    "\n",
    "#### Sorted function -"
   ]
  },
  {
   "cell_type": "code",
   "execution_count": 11,
   "id": "a76221f6",
   "metadata": {},
   "outputs": [
    {
     "name": "stdout",
     "output_type": "stream",
     "text": [
      "[1, 2, 3, 4, 5, 9, 11, 12, 13], type = <class 'list'>\n",
      "[1, 2, 3, 4, 5, 9, 11, 12, 13], type = <class 'list'>\n",
      "[1, 2, 3, 4, 5, 9, 11, 12, 13], type = <class 'list'>\n"
     ]
    }
   ],
   "source": [
    "t = ( 4, 5, 2, 9, 1, 11, 13, 12, 3)\n",
    "l = [ 4, 5, 2, 9, 1, 11, 13, 12, 3]\n",
    "s = { 4, 4, 4, 5, 2, 9, 1, 1, 1, 11, 13, 12, 3}\n",
    "\n",
    "print(f\"{sorted(t)}, type = {type(sorted(t))}\")\n",
    "print(f\"{sorted(l)}, type = {type(sorted(l))}\")\n",
    "print(f\"{sorted(s)}, type = {type(sorted(s))}\")"
   ]
  },
  {
   "cell_type": "code",
   "execution_count": null,
   "id": "55619091",
   "metadata": {},
   "outputs": [],
   "source": []
  }
 ],
 "metadata": {
  "kernelspec": {
   "display_name": "Python 3 (ipykernel)",
   "language": "python",
   "name": "python3"
  },
  "language_info": {
   "codemirror_mode": {
    "name": "ipython",
    "version": 3
   },
   "file_extension": ".py",
   "mimetype": "text/x-python",
   "name": "python",
   "nbconvert_exporter": "python",
   "pygments_lexer": "ipython3",
   "version": "3.9.12"
  }
 },
 "nbformat": 4,
 "nbformat_minor": 5
}
